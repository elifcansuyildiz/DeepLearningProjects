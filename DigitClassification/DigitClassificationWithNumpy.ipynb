{
 "cells": [
  {
   "cell_type": "markdown",
   "metadata": {},
   "source": [
    "# Handwritten Digit Classification using pure python/numpy\n",
    "Elif Cansu YILDIZ"
   ]
  },
  {
   "cell_type": "code",
   "execution_count": 1,
   "metadata": {
    "ExecuteTime": {
     "end_time": "2021-11-21T14:17:13.041650Z",
     "start_time": "2021-11-21T14:17:11.883293Z"
    }
   },
   "outputs": [],
   "source": [
    "import numpy as np\n",
    "import torch as th\n",
    "import torch.nn as nn\n",
    "import torchvision\n",
    "import torchvision.transforms as transforms\n",
    "import torchvision.datasets as datasets\n",
    "import matplotlib.pyplot as plt"
   ]
  },
  {
   "cell_type": "markdown",
   "metadata": {},
   "source": [
    "## Dataset"
   ]
  },
  {
   "cell_type": "code",
   "execution_count": 2,
   "metadata": {
    "ExecuteTime": {
     "end_time": "2021-11-21T14:17:13.721441Z",
     "start_time": "2021-11-21T14:17:13.043271Z"
    }
   },
   "outputs": [],
   "source": [
    "train_dataset = datasets.MNIST(root='./data',train=True, transform=transforms.ToTensor(), download=True)\n",
    "test_dataset = datasets.MNIST(root='./data',train=False, transform=transforms.ToTensor(), download=True)"
   ]
  },
  {
   "cell_type": "code",
   "execution_count": 3,
   "metadata": {
    "ExecuteTime": {
     "end_time": "2021-11-21T14:17:13.726264Z",
     "start_time": "2021-11-21T14:17:13.722835Z"
    }
   },
   "outputs": [
    {
     "name": "stdout",
     "output_type": "stream",
     "text": [
      "number of training data:  60000\n",
      "number of test data    :  10000\n"
     ]
    }
   ],
   "source": [
    "n_train_data = len(train_dataset)\n",
    "n_test_data = len(test_dataset)\n",
    "\n",
    "print(\"number of training data: \", n_train_data)\n",
    "print(\"number of test data    : \", n_test_data)"
   ]
  },
  {
   "cell_type": "markdown",
   "metadata": {},
   "source": [
    "## Visualize Data"
   ]
  },
  {
   "cell_type": "code",
   "execution_count": 4,
   "metadata": {
    "ExecuteTime": {
     "end_time": "2021-11-21T14:17:13.938140Z",
     "start_time": "2021-11-21T14:17:13.727617Z"
    }
   },
   "outputs": [
    {
     "name": "stdout",
     "output_type": "stream",
     "text": [
      "torch.Size([1, 1, 28, 28])\n"
     ]
    },
    {
     "data": {
      "image/png": "[encoded data removed]",
      "text/plain": [
       "<Figure size 432x288 with 1 Axes>"
      ]
     },
     "metadata": {
      "needs_background": "light"
     },
     "output_type": "display_data"
    }
   ],
   "source": [
    "train_loader = th.utils.data.DataLoader(train_dataset, batch_size=1, shuffle=True)\n",
    "\n",
    "for id, (img, label) in enumerate(train_loader):\n",
    "    if id==1:\n",
    "        print(img.shape)\n",
    "        plt.figure()\n",
    "        plt.imshow(img.reshape(28,28), cmap=plt.get_cmap('gray'))\n",
    "        break"
   ]
  },
  {
   "cell_type": "markdown",
   "metadata": {},
   "source": [
    "## Activation Functions"
   ]
  },
  {
   "cell_type": "code",
   "execution_count": 5,
   "metadata": {
    "ExecuteTime": {
     "end_time": "2021-11-21T14:17:13.943613Z",
     "start_time": "2021-11-21T14:17:13.940402Z"
    }
   },
   "outputs": [],
   "source": [
    "def sigmoid(x):\n",
    "    return 1 / (1+np.exp(-x))\n",
    "\n",
    "def softmax(x):\n",
    "    return np.exp(x) / np.sum(np.exp(x), axis=0)"
   ]
  },
  {
   "cell_type": "code",
   "execution_count": 6,
   "metadata": {
    "ExecuteTime": {
     "end_time": "2021-11-21T14:17:14.015907Z",
     "start_time": "2021-11-21T14:17:13.945752Z"
    }
   },
   "outputs": [],
   "source": [
    "def one_hot(labels):\n",
    "    y_onehot = np.zeros((labels.size, labels.max()+1))\n",
    "    y_onehot[np.arange(labels.size),labels] = 1\n",
    "    return y_onehot"
   ]
  },
  {
   "cell_type": "markdown",
   "metadata": {},
   "source": [
    "## Dataset Preprocessing"
   ]
  },
  {
   "cell_type": "code",
   "execution_count": 7,
   "metadata": {
    "ExecuteTime": {
     "end_time": "2021-11-21T14:17:24.596118Z",
     "start_time": "2021-11-21T14:17:14.017284Z"
    }
   },
   "outputs": [
    {
     "name": "stdout",
     "output_type": "stream",
     "text": [
      "train_data.shape: (60000, 784) \n",
      "test_data.shape: (10000, 784) \n",
      "train_labels.shape: (60000, 10) \n",
      "test_labels.shape: (10000, 10)\n"
     ]
    }
   ],
   "source": [
    "train_dataloader = th.utils.data.DataLoader(train_dataset, batch_size=len(train_dataset))\n",
    "train_data = next(iter(train_dataloader))[0].numpy()\n",
    "train_labels = next(iter(train_dataloader))[1].numpy()\n",
    "\n",
    "test_dataloader = th.utils.data.DataLoader(test_dataset, batch_size=len(test_dataset))\n",
    "test_data = next(iter(test_dataloader))[0].numpy()\n",
    "test_labels = next(iter(test_dataloader))[1].numpy()\n",
    "#print(\"train_data.shape: {} test_data.shape: {} train_labels.shape: {} test_labels.shape: {}\".format(train_data.shape, test_data.shape, train_labels.shape, test_labels.shape))\n",
    "\n",
    "########## DATA SHAPE MODIFICATION ############\n",
    "\n",
    "train_data = train_data.reshape(-1, 28*28)\n",
    "test_data = test_data.reshape(-1, 28*28)\n",
    "\n",
    "train_labels = one_hot(train_labels)\n",
    "test_labels = one_hot(test_labels)\n",
    "\n",
    "print(\"train_data.shape: {} \\ntest_data.shape: {} \\ntrain_labels.shape: {} \\ntest_labels.shape: {}\".format(train_data.shape, test_data.shape, train_labels.shape, test_labels.shape))"
   ]
  },
  {
   "cell_type": "markdown",
   "metadata": {},
   "source": [
    "## Loss Function"
   ]
  },
  {
   "cell_type": "code",
   "execution_count": 8,
   "metadata": {
    "ExecuteTime": {
     "end_time": "2021-11-21T14:17:24.599653Z",
     "start_time": "2021-11-21T14:17:24.597417Z"
    }
   },
   "outputs": [],
   "source": [
    "def MSE_loss(y, y_pred):\n",
    "    return np.mean((y-y_pred)**2)"
   ]
  },
  {
   "cell_type": "markdown",
   "metadata": {},
   "source": [
    "## Network Class"
   ]
  },
  {
   "cell_type": "code",
   "execution_count": 9,
   "metadata": {
    "ExecuteTime": {
     "end_time": "2021-11-21T14:17:24.713912Z",
     "start_time": "2021-11-21T14:17:24.600859Z"
    }
   },
   "outputs": [],
   "source": [
    "class Network:\n",
    "    def __init__(self, input_size, output_size, lr):\n",
    "        self.input_size = input_size\n",
    "        self.output_size = output_size\n",
    "        self.lr = lr\n",
    "        \n",
    "        self.params = {}\n",
    "        self.num_hidden = 64\n",
    "        self.w1 = np.random.random((self.input_size, self.num_hidden)) - 0.5     # w1.shape: (784, 64)\n",
    "        self.w2 = np.random.random((self.num_hidden, self.output_size)) - 0.5    # w2.shape: (64, 10)\n",
    "        self.params[\"w1\"] = self.w1\n",
    "        self.params[\"w2\"] = self.w2\n",
    "        \n",
    "        #print(\"w1.shape: {} w2.shape: {}\".format(self.w1.shape, self.w2.shape))\n",
    "          \n",
    "    def forward(self, x):\n",
    "        \n",
    "        out1 = self.w1.T @ x\n",
    "        a1 = sigmoid(out1)\n",
    "        \n",
    "        out2 = self.w2.T @ a1\n",
    "        a2 = softmax(out2)\n",
    "        \n",
    "        self.params[\"out1\"] = out1\n",
    "        self.params[\"a1\"] = a1\n",
    "        self.params[\"out2\"] = out2\n",
    "        self.params[\"a2\"] = a2\n",
    "        \n",
    "        #print(\"a1.shape: {} y.shape: {}\".format(a1.shape, a2.shape))\n",
    "        \n",
    "        return a2\n",
    "    \n",
    "    def step(self, Y, X):\n",
    "        grads = derivative(self.params, Y, X)\n",
    "        self.w1 = self.w1 - self.lr * grads[\"grad_w1\"]\n",
    "        self.w2 = self.w2 - self.lr * grads[\"grad_w2\"]\n"
   ]
  },
  {
   "cell_type": "code",
   "execution_count": 10,
   "metadata": {
    "ExecuteTime": {
     "end_time": "2021-11-21T14:17:24.810745Z",
     "start_time": "2021-11-21T14:17:24.715209Z"
    }
   },
   "outputs": [],
   "source": [
    "model = Network(784, 10, lr=0.05)\n",
    "out = model.forward(train_data[:4].T)"
   ]
  },
  {
   "cell_type": "markdown",
   "metadata": {},
   "source": [
    "## Backpropagation"
   ]
  },
  {
   "cell_type": "code",
   "execution_count": 11,
   "metadata": {
    "ExecuteTime": {
     "end_time": "2021-11-21T14:17:24.910557Z",
     "start_time": "2021-11-21T14:17:24.812341Z"
    }
   },
   "outputs": [],
   "source": [
    "def softmax_derivative(Sz):\n",
    "    samples = Sz.shape[0]\n",
    "    features = Sz.shape[1]\n",
    "    \n",
    "    # Calculate outer part\n",
    "    Sz_ = np.expand_dims(Sz, axis=-1)\n",
    "    outer = np.einsum('ijk,imn->ijm', Sz_, Sz_) # (samples, features, features) # a fancy alternative to torch.bmm\n",
    "\n",
    "    # Calculate diagonal part\n",
    "    identity_single = np.identity(features)\n",
    "    identity_multiple = np.transpose(np.dstack([identity_single]*samples), (2, 0, 1))\n",
    "    diag = identity_multiple * Sz.reshape(samples, features, 1)\n",
    "\n",
    "    return -outer + diag"
   ]
  },
  {
   "cell_type": "code",
   "execution_count": 12,
   "metadata": {
    "ExecuteTime": {
     "end_time": "2021-11-21T14:17:25.002172Z",
     "start_time": "2021-11-21T14:17:24.911883Z"
    }
   },
   "outputs": [],
   "source": [
    "def derivative(params, y_true, X):\n",
    "    grads = {}\n",
    "    \n",
    "    back_error = (2/X.shape[1]) * (params[\"a2\"]-y_true)   #2/N * (y-y_t)  #(10,20)\n",
    "    \n",
    "    back_a2 = np.einsum(\"aij,aj->ai\", softmax_derivative(params[\"a2\"].T), back_error.T).T    # (10,20)\n",
    "    \n",
    "    back_out2 = params[\"w2\"] @ back_a2  # (64,20)\n",
    "    back_a1 = params[\"a1\"] * (1 - params[\"a1\"]) * back_out2    #(64,20)\n",
    "    grad_w1 = X @ back_a1.T   #(784, 64)\n",
    "    \n",
    "    grad_w2 = params[\"a1\"] @ back_a2.T\n",
    "    \n",
    "    #print(\"grad_w1.shape: {}  grad_w2.shape: {}\".format(grad_w1.shape, grad_w2.shape))\n",
    "    \n",
    "    #print(\"back_error: {} \\nback_a2: {} \\nback_out2: {} \\nback_a1: {} \\ngrad_w1: {} \\ngrad_w2: {}\".format(back_error, back_a2, back_out2, back_a1, grad_w1, grad_w2))\n",
    "    \n",
    "    grads[\"grad_w1\"] = grad_w1\n",
    "    grads[\"grad_w2\"] = grad_w2\n",
    "    \n",
    "    return grads"
   ]
  },
  {
   "cell_type": "code",
   "execution_count": 13,
   "metadata": {
    "ExecuteTime": {
     "end_time": "2021-11-21T14:17:25.135734Z",
     "start_time": "2021-11-21T14:17:25.003548Z"
    }
   },
   "outputs": [
    {
     "data": {
      "text/plain": [
       "(10, 4)"
      ]
     },
     "execution_count": 13,
     "metadata": {},
     "output_type": "execute_result"
    }
   ],
   "source": [
    "model = Network(784, 10, lr=0.05)\n",
    "out = model.forward(train_data[:4].T)\n",
    "der_out = derivative(model.params, train_labels[:4].T, train_data[:4].T)\n",
    "out.shape"
   ]
  },
  {
   "cell_type": "markdown",
   "metadata": {},
   "source": [
    "## Train and Evaluation Function"
   ]
  },
  {
   "cell_type": "code",
   "execution_count": 14,
   "metadata": {
    "ExecuteTime": {
     "end_time": "2021-11-21T14:17:25.210415Z",
     "start_time": "2021-11-21T14:17:25.137170Z"
    }
   },
   "outputs": [],
   "source": [
    "def train(model, train_X, train_Y, batch_size):\n",
    "    \n",
    "    loss = 0\n",
    "    total_acc = 0\n",
    "    num_batch = int(len(train_dataset)/batch_size)\n",
    "    for idx in range(num_batch+1): \n",
    "        \n",
    "        if idx == num_batch:\n",
    "            continue   # drop the last minibatch\n",
    "        else:\n",
    "            batch_X = train_X[idx*batch_size : (idx+1)*batch_size, :].T\n",
    "            batch_Y = train_Y[idx*batch_size : (idx+1)*batch_size, :].T\n",
    "         \n",
    "        # forward    \n",
    "        y_pred = model.forward(batch_X)\n",
    "        \n",
    "        # loss calculation\n",
    "        loss += MSE_loss(batch_Y, y_pred)\n",
    "        \n",
    "        # accuracy calculation\n",
    "        pred_label = np.argmax(y_pred, axis=0)  #hardmax\n",
    "        true_label = np.argmax(batch_Y, axis=0)\n",
    "        acc = (np.sum(pred_label==true_label) / len(true_label))\n",
    "        total_acc += acc\n",
    "        \n",
    "        # backward and update\n",
    "        model.step(batch_Y, batch_X)\n",
    "        \n",
    "    return loss/num_batch, total_acc/num_batch\n",
    "\n",
    "def evaluate(model, val_X,  val_Y, batch_size):\n",
    "    \n",
    "    loss = 0\n",
    "    total_acc = 0\n",
    "    num_batch = int(len(val_X)/batch_size)\n",
    "    \n",
    "    for idx in range(num_batch+1):\n",
    "        \n",
    "        if idx == num_batch:\n",
    "            continue   # since last batch is empty\n",
    "            batch_X = val_X[num_batch*batch_size : len(val_X), :].T\n",
    "            batch_Y = val_Y[num_batch*batch_size : len(val_X), :].T\n",
    "        \n",
    "        else:\n",
    "            batch_X = val_X[idx*batch_size : (idx+1)*batch_size, :].T\n",
    "            batch_Y = val_Y[idx*batch_size : (idx+1)*batch_size, :].T\n",
    "         \n",
    "        # forward    \n",
    "        y_pred = model.forward(batch_X)\n",
    "        \n",
    "        # loss calculation\n",
    "        loss += MSE_loss(batch_Y, y_pred)\n",
    "        \n",
    "        # accuracy calculation\n",
    "        pred_label = np.argmax(y_pred, axis=0)  #hardmax\n",
    "        true_label = np.argmax(batch_Y, axis=0)\n",
    "        acc = (np.sum(pred_label==true_label) / len(true_label))\n",
    "        total_acc += acc\n",
    "        \n",
    "    return loss/num_batch, total_acc/num_batch"
   ]
  },
  {
   "cell_type": "code",
   "execution_count": 15,
   "metadata": {
    "ExecuteTime": {
     "end_time": "2021-11-21T14:17:25.335585Z",
     "start_time": "2021-11-21T14:17:25.211511Z"
    }
   },
   "outputs": [
    {
     "name": "stdout",
     "output_type": "stream",
     "text": [
      "[[0.50732553 0.76564741 0.14492035 0.83605328 0.06235725 0.92525051]\n",
      " [0.75277168 0.02736267 0.30808039 0.48470917 0.2016648  0.54672164]\n",
      " [0.84620174 0.01723391 0.65777373 0.54244784 0.67631718 0.99067507]\n",
      " [0.39354568 0.006742   0.0291351  0.61382994 0.22378024 0.4170993 ]]\n"
     ]
    },
    {
     "data": {
      "text/plain": [
       "array([2, 0, 2, 0, 2, 2])"
      ]
     },
     "execution_count": 15,
     "metadata": {},
     "output_type": "execute_result"
    }
   ],
   "source": [
    "arr = np.random.random((4,6))\n",
    "print(arr)\n",
    "np.argmax(arr, axis=0)"
   ]
  },
  {
   "cell_type": "markdown",
   "metadata": {},
   "source": [
    "## Main Function"
   ]
  },
  {
   "cell_type": "code",
   "execution_count": 16,
   "metadata": {
    "ExecuteTime": {
     "end_time": "2021-11-21T14:18:45.348768Z",
     "start_time": "2021-11-21T14:17:25.337654Z"
    }
   },
   "outputs": [
    {
     "name": "stdout",
     "output_type": "stream",
     "text": [
      "epoch: 0\n",
      "train loss: 0.0438 train acc: 0.7089\n",
      "val loss: 0.0253 val acc: 0.8476\n",
      "epoch: 10\n",
      "train loss: 0.0115 train acc: 0.9262\n",
      "val loss: 0.0112 val acc: 0.9274\n",
      "epoch: 20\n",
      "train loss: 0.0091 train acc: 0.9420\n",
      "val loss: 0.0093 val acc: 0.9403\n",
      "epoch: 30\n",
      "train loss: 0.0077 train acc: 0.9511\n",
      "val loss: 0.0083 val acc: 0.9454\n",
      "epoch: 40\n",
      "train loss: 0.0068 train acc: 0.9575\n",
      "val loss: 0.0076 val acc: 0.9492\n",
      "epoch: 49\n",
      "train loss: 0.0062 train acc: 0.9617\n",
      "val loss: 0.0072 val acc: 0.9525\n"
     ]
    }
   ],
   "source": [
    "epoch = 50\n",
    "batch_size = 20\n",
    "lr = 0.05\n",
    "\n",
    "model = Network(input_size=784, output_size=10, lr=lr)\n",
    "train_loss_hist = []\n",
    "train_acc_hist = []\n",
    "val_loss_hist = []\n",
    "val_acc_hist = []\n",
    "\n",
    "for i in range(epoch):\n",
    "    \n",
    "    train_loss, train_acc = train(model, train_data, train_labels, batch_size)\n",
    "    train_loss_hist.append(train_loss)\n",
    "    train_acc_hist.append(train_acc)\n",
    "    \n",
    "    val_loss, val_acc = evaluate(model, test_data, test_labels, batch_size) # *10\n",
    "    val_loss_hist.append(val_loss)\n",
    "    val_acc_hist.append(val_acc)\n",
    "    \n",
    "    if i%10==0 or i==epoch-1:\n",
    "        print(\"epoch: {}\".format(i))\n",
    "        print(\"train loss: {:.4f} train acc: {:.4f}\".format(train_loss, train_acc))\n",
    "        print(\"val loss: {:.4f} val acc: {:.4f}\".format(val_loss, val_acc))"
   ]
  },
  {
   "cell_type": "code",
   "execution_count": 17,
   "metadata": {
    "ExecuteTime": {
     "end_time": "2021-11-21T14:18:45.605411Z",
     "start_time": "2021-11-21T14:18:45.350934Z"
    }
   },
   "outputs": [
    {
     "data": {
      "image/png": "[encoded data removed]",
      "text/plain": [
       "<Figure size 864x432 with 2 Axes>"
      ]
     },
     "metadata": {
      "needs_background": "light"
     },
     "output_type": "display_data"
    }
   ],
   "source": [
    "fig, (axs1, axs2) = plt.subplots(2, figsize=(12,6))\n",
    "axs1.plot(train_loss_hist, \"tab:purple\", label=\"Train Loss\")\n",
    "axs1.plot(val_loss_hist, label=\"Validation Loss\")\n",
    "axs1.set_xlabel(\"Epoch\")\n",
    "axs1.set_ylabel(\"Loss\")\n",
    "axs1.legend()\n",
    "\n",
    "axs2.plot(train_acc_hist, \"tab:pink\", label=\"Train Accuracy\")\n",
    "axs2.plot(val_acc_hist, label=\"Validation Accuracy\")\n",
    "axs2.set_xlabel(\"Epoch\")\n",
    "axs2.set_ylabel(\"Accuracy\")\n",
    "axs2.legend()\n",
    "\n",
    "fig.tight_layout()"
   ]
  }
 ],
 "metadata": {
  "kernelspec": {
   "display_name": "PyTorch 1.8.1 CustomBuild + OpenCV 4.5.1",
   "language": "python",
   "name": "pytorch"
  },
  "language_info": {
   "codemirror_mode": {
    "name": "ipython",
    "version": 3
   },
   "file_extension": ".py",
   "mimetype": "text/x-python",
   "name": "python",
   "nbconvert_exporter": "python",
   "pygments_lexer": "ipython3",
   "version": "3.8.8"
  },
  "toc": {
   "base_numbering": 1,
   "nav_menu": {},
   "number_sections": true,
   "sideBar": true,
   "skip_h1_title": false,
   "title_cell": "Table of Contents",
   "title_sidebar": "Contents",
   "toc_cell": false,
   "toc_position": {},
   "toc_section_display": true,
   "toc_window_display": false
  }
 },
 "nbformat": 4,
 "nbformat_minor": 4
}
